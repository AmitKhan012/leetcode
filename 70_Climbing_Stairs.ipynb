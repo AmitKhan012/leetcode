{
  "nbformat": 4,
  "nbformat_minor": 0,
  "metadata": {
    "colab": {
      "provenance": []
    },
    "kernelspec": {
      "name": "python3",
      "display_name": "Python 3"
    },
    "language_info": {
      "name": "python"
    }
  },
  "cells": [
    {
      "cell_type": "markdown",
      "source": [
        "problem link: https://leetcode.com/problems/climbing-stairs/description/"
      ],
      "metadata": {
        "id": "hRyXgzLMoyGu"
      }
    },
    {
      "cell_type": "code",
      "execution_count": 1,
      "metadata": {
        "id": "lytyYw5lob80"
      },
      "outputs": [],
      "source": [
        "class Solution:\n",
        "  def climbStairs(self, n: int) -> int:\n",
        "    one, two = 1, 1\n",
        "\n",
        "    for i in range(n - 1):\n",
        "      temp = one\n",
        "      one = one + two\n",
        "      two = temp\n",
        "\n",
        "    return one"
      ]
    },
    {
      "cell_type": "code",
      "source": [
        "solution = Solution()"
      ],
      "metadata": {
        "id": "U3zHR9A3oxXy"
      },
      "execution_count": 2,
      "outputs": []
    },
    {
      "cell_type": "code",
      "source": [
        "print(solution.climbStairs(3))"
      ],
      "metadata": {
        "colab": {
          "base_uri": "https://localhost:8080/"
        },
        "id": "TPG9GNjsy30G",
        "outputId": "9215d9a8-73ae-4f12-fc18-55b89f944a9e"
      },
      "execution_count": 4,
      "outputs": [
        {
          "output_type": "stream",
          "name": "stdout",
          "text": [
            "3\n"
          ]
        }
      ]
    },
    {
      "cell_type": "code",
      "source": [],
      "metadata": {
        "id": "Qh-UC9RKy9BG"
      },
      "execution_count": null,
      "outputs": []
    }
  ]
}